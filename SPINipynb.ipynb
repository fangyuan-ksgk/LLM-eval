{
  "nbformat": 4,
  "nbformat_minor": 0,
  "metadata": {
    "colab": {
      "provenance": [],
      "machine_shape": "hm",
      "gpuType": "A100",
      "authorship_tag": "ABX9TyPKSv00cgvUuAND2hMX2oTz",
      "include_colab_link": true
    },
    "kernelspec": {
      "name": "python3",
      "display_name": "Python 3"
    },
    "language_info": {
      "name": "python"
    },
    "accelerator": "GPU"
  },
  "cells": [
    {
      "cell_type": "markdown",
      "metadata": {
        "id": "view-in-github",
        "colab_type": "text"
      },
      "source": [
        "<a href=\"https://colab.research.google.com/github/fangyuan-ksgk/LLM-eval/blob/main/SPINipynb.ipynb\" target=\"_parent\"><img src=\"https://colab.research.google.com/assets/colab-badge.svg\" alt=\"Open In Colab\"/></a>"
      ]
    },
    {
      "cell_type": "code",
      "execution_count": 2,
      "metadata": {
        "colab": {
          "base_uri": "https://localhost:8080/"
        },
        "id": "lO0tEdOtwkSm",
        "outputId": "402d3993-a83c-4867-b2bf-8bd34233062e"
      },
      "outputs": [
        {
          "output_type": "stream",
          "name": "stdout",
          "text": [
            "/content/SPIN\n"
          ]
        }
      ],
      "source": [
        "# Self-play Fine-Tuning | Repo Set-up\n",
        "!pip install torch==2.1.0 torchvision==0.16.0 torchaudio==2.1.0 --index-url https://download.pytorch.org/whl/cu11\n",
        "!git clone https://github.com/uclaml/SPIN.git\n",
        "%cd SPIN\n",
        "!python -m pip install .\n",
        "!python -m pip install flash-attn --no-build-isolation"
      ]
    },
    {
      "cell_type": "code",
      "source": [
        "!python -m pip install .\n",
        "!python -m pip install flash-attn --no-build-isolation"
      ],
      "metadata": {
        "id": "5urnQwACySPi"
      },
      "execution_count": null,
      "outputs": []
    },
    {
      "cell_type": "code",
      "source": [
        "!python spin/reformat.py --output_dir UCLA-AGI/SPIN_iter0"
      ],
      "metadata": {
        "id": "y4mSsfECycny"
      },
      "execution_count": null,
      "outputs": []
    },
    {
      "cell_type": "code",
      "source": [
        "# Price for the generation process is somehow too high for me ... (Also very high for others!)\n",
        "# The idea is to get the pipeline running first, and then we worry about computing power here\n",
        "\n",
        "# One of the obvious issue with the generation result, is that the LLM here is essentially trying to write a scripts, and not roleplay..."
      ],
      "metadata": {
        "id": "JPgHGCV81KTe"
      },
      "execution_count": 15,
      "outputs": []
    },
    {
      "cell_type": "code",
      "source": [
        "# Frac-Length is the length of a fraction of data batch\n",
        "!accelerate launch spin/generate.py --output_dir UCLA-AGI/SPIN_iter0/generate_toy/ --frac_len 100"
      ],
      "metadata": {
        "colab": {
          "base_uri": "https://localhost:8080/"
        },
        "id": "C2g54u49zh-4",
        "outputId": "e83e9145-19d2-4c76-b080-80c13d26e23b"
      },
      "execution_count": 51,
      "outputs": [
        {
          "output_type": "stream",
          "name": "stdout",
          "text": [
            "The following values were not passed to `accelerate launch` and had defaults used instead:\n",
            "\t`--num_processes` was set to a value of `1`\n",
            "\t`--num_machines` was set to a value of `1`\n",
            "\t`--mixed_precision` was set to a value of `'no'`\n",
            "\t`--dynamo_backend` was set to a value of `'no'`\n",
            "To avoid this warning pass in values for each of the problematic parameters or run `accelerate config`.\n",
            "Loading checkpoint shards: 100% 3/3 [00:04<00:00,  1.54s/it]\n",
            "Downloading data files: 100% 2/2 [00:00<00:00, 13573.80it/s]\n",
            "Extracting data files: 100% 2/2 [00:00<00:00, 901.61it/s]\n",
            "Generating train split: 207865 examples [00:03, 65709.14 examples/s]\n",
            "Generating test split: 23110 examples [00:00, 70759.84 examples/s]\n",
            "Loaded Data Size:  207865\n",
            "100% 7/7 [01:23<00:00, 11.96s/it]\n",
            "time elapsed: 83.75502896308899\n"
          ]
        }
      ]
    },
    {
      "cell_type": "code",
      "source": [
        "!accelerate launch spin/generate.py --output_dir UCLA-AGI/SPIN_iter0/generate_toy/ --frac_len 100 --data_frac 1"
      ],
      "metadata": {
        "colab": {
          "base_uri": "https://localhost:8080/"
        },
        "id": "juuxQJ3xIeNf",
        "outputId": "c2cbc146-8d1e-4e6d-d814-3460a78871c5"
      },
      "execution_count": 49,
      "outputs": [
        {
          "output_type": "stream",
          "name": "stdout",
          "text": [
            "The following values were not passed to `accelerate launch` and had defaults used instead:\n",
            "\t`--num_processes` was set to a value of `1`\n",
            "\t`--num_machines` was set to a value of `1`\n",
            "\t`--mixed_precision` was set to a value of `'no'`\n",
            "\t`--dynamo_backend` was set to a value of `'no'`\n",
            "To avoid this warning pass in values for each of the problematic parameters or run `accelerate config`.\n",
            "Loading checkpoint shards: 100% 3/3 [00:04<00:00,  1.54s/it]\n",
            "Loaded Data Size:  207865\n",
            "100% 7/7 [01:32<00:00, 13.14s/it]\n",
            "time elapsed: 92.05852556228638\n"
          ]
        }
      ]
    },
    {
      "cell_type": "code",
      "source": [
        "!accelerate launch spin/generate.py --output_dir UCLA-AGI/SPIN_iter0/generate_toy/ --frac_len 20 --data_frac 0 --split test"
      ],
      "metadata": {
        "colab": {
          "base_uri": "https://localhost:8080/"
        },
        "id": "4JI_259XIlV6",
        "outputId": "07ef3e17-60de-42d3-f17c-596e6bb08526"
      },
      "execution_count": 50,
      "outputs": [
        {
          "output_type": "stream",
          "name": "stdout",
          "text": [
            "The following values were not passed to `accelerate launch` and had defaults used instead:\n",
            "\t`--num_processes` was set to a value of `1`\n",
            "\t`--num_machines` was set to a value of `1`\n",
            "\t`--mixed_precision` was set to a value of `'no'`\n",
            "\t`--dynamo_backend` was set to a value of `'no'`\n",
            "To avoid this warning pass in values for each of the problematic parameters or run `accelerate config`.\n",
            "Loading checkpoint shards: 100% 3/3 [00:04<00:00,  1.54s/it]\n",
            "Loaded Data Size:  23110\n",
            "100% 2/2 [00:23<00:00, 11.71s/it]\n",
            "time elapsed: 23.441169261932373\n"
          ]
        }
      ]
    },
    {
      "cell_type": "code",
      "source": [
        "import json\n",
        "\n",
        "# Replace 'your_file.jsonl' with your .jsonl file path\n",
        "file_path = 'UCLA-AGI/SPIN_iter0/generate_toy/loser_0_test.jsonl'\n",
        "\n",
        "def read_jsonl(file_path):\n",
        "  dataset = []\n",
        "  # Open the file and read line by line\n",
        "  with open(file_path, 'r') as file:\n",
        "    for line in file:\n",
        "      # Parse each line as a JSON object\n",
        "      data = json.loads(line)\n",
        "      # Now 'data' is a Python dictionary\n",
        "      # print(data)\n",
        "      dataset.append(data)\n",
        "  return dataset"
      ],
      "metadata": {
        "id": "_hrV7VPIEL_3"
      },
      "execution_count": 3,
      "outputs": []
    },
    {
      "cell_type": "code",
      "source": [
        "print('Check on the first data point from the Dataset: ')\n",
        "read_jsonl(file_path)[0]"
      ],
      "metadata": {
        "colab": {
          "base_uri": "https://localhost:8080/"
        },
        "id": "97EaL8gEEiaq",
        "outputId": "c1ce82d3-1423-4935-de5d-5aa48d0cfa09"
      },
      "execution_count": 4,
      "outputs": [
        {
          "output_type": "stream",
          "name": "stdout",
          "text": [
            "Check on the first data point from the Dataset: \n"
          ]
        },
        {
          "output_type": "execute_result",
          "data": {
            "text/plain": [
              "{'real': [{'role': 'user',\n",
              "   'content': \"Write a compelling mystery story set in a vineyard, where a seasoned detective investigates a murder with twists and turns that will keep the reader engaged until the very end. Add complex characters, multiple suspects, and red herrings to create suspense and challenge the detective's deductive reasoning. Use vivid descriptive language to paint a picture of the vineyard setting, its wine-making process, and the people who live and work there. Make sure to reveal clues and motives gradually, and create a satisfying resolution that ties up all loose ends.\"},\n",
              "  {'role': 'assistant',\n",
              "   'content': \"Detective Jameson had been called to the vineyard on the outskirts of town to investigate a murder. The sun was setting, casting long shadows over the grape vines, and the air was heavy with the sweet scent of fermented grapes. The body was lying in the middle of the vineyard, surrounded by broken grape vines and a scattering of grapes. The victim's throat had been slashed, and there were bruises around the neck.\\n\\nAs Jameson began his investigation, he met the owner of the vineyard, a tall, thin man with a stern face. The owner didn't seem overly concerned about the murder on his property and was reluctant to answer any questions that Jameson had. He was also dismissive of the other workers, including the winemaker, who appeared visibly distraught.\\n\\nJameson soon discovered that the victim, a young woman named Sophia, had been working at the vineyard for the past year. Sophia was well-liked by the other workers, who had nothing but positive things to say about her. She was hardworking and always had a smile on her face. As Jameson dug deeper, he found that Sophia had possibly been having an affair with the owner, who was married. The owner denied any involvement, but Jameson was suspicious, especially when he found a note in Sophia's pocket that hinted at a secret relationship.\\n\\nFurther investigation uncovered more potential suspects—a worker who had been fired earlier that day, a jealous ex-boyfriend, and even a rival vineyard owner. With so many suspects, Jameson had to be careful, and he wasn't sure who he could trust. The winemaker, who had initially seemed distraught, also didn't seem to be telling Jameson everything he knew.\\n\\nAs Jameson pieced together the clues, he found that the murder had been premeditated. The killer had used the grape vines to hide their tracks, and the bruises on Sophia's neck indicated she had been strangled before her throat was slashed. Jameson knew he was getting closer to solving the case, and he sensed the killer was getting nervous.\\n\\nThe final twist came when the winemaker confessed to the murder. He had been in love with Sophia and had become jealous when he discovered she had been seeing the owner. He had planned the murder carefully, knowing that Sophia had been working alone that day. Jameson arrested the winemaker, relieved that he had solved the case and that justice would be served.\\n\\nAs the sun rose over the vineyard the next day, the workers returned to their routine of harvesting grapes, but Jameson knew that the tranquility of the vineyard had been shattered by a brutal murder.\"}],\n",
              " 'generated': [{'role': 'user',\n",
              "   'content': \"Write a compelling mystery story set in a vineyard, where a seasoned detective investigates a murder with twists and turns that will keep the reader engaged until the very end. Add complex characters, multiple suspects, and red herrings to create suspense and challenge the detective's deductive reasoning. Use vivid descriptive language to paint a picture of the vineyard setting, its wine-making process, and the people who live and work there. Make sure to reveal clues and motives gradually, and create a satisfying resolution that ties up all loose ends.\"},\n",
              "  {'role': 'assistant',\n",
              "   'content': \"Detective Jameson had seen his fair share of murders in his long career, but there was something about the tranquil setting of the vineyard that made this one particularly unsettling. The victim, a young winemaker named Olivia, had been found dead in the middle of the grape harvest, her body lying in a pool of blood among the vines.\\n\\nAs Jameson surveyed the scene, he couldn't help but feel a sense of unease. The vineyard was a sprawling estate, with rolling hills covered in neat rows of grapevines, and a sprawling manor house at the center. The air was thick with the sweet scent of ripening grapes, and the sound of tractors and workers could be heard in the distance.\\n\\nThe investigation began with a long list of suspects. There was Olivia's business partner, a gruff old man named Antonio who had a reputation for being ruthless in his dealings. There was also Olivia's ex-boyfriend, a handsome but volatile young man named Marco who had been seen arguing with her the night before. And then there were the workers, a motley crew of migrants and locals\"}]}"
            ]
          },
          "metadata": {},
          "execution_count": 4
        }
      ]
    },
    {
      "cell_type": "markdown",
      "source": [
        "### Converted to read-to-train format for Self-Play Fine-Tuning"
      ],
      "metadata": {
        "id": "wHRGANkyKBhv"
      }
    },
    {
      "cell_type": "code",
      "source": [
        "!python spin/convert_data.py --output_dir UCLA-AGI/SPIN_iter0/convert_toy --input_dir UCLA-AGI/SPIN_iter0/generate_toy --num_fracs 1\n"
      ],
      "metadata": {
        "colab": {
          "base_uri": "https://localhost:8080/"
        },
        "id": "sHvZXr1S1qdW",
        "outputId": "ed715818-850c-488f-c148-7fa0094f03d4"
      },
      "execution_count": 6,
      "outputs": [
        {
          "output_type": "stream",
          "name": "stdout",
          "text": [
            "200\n",
            "20\n",
            "Downloading data files: 100% 1/1 [00:00<00:00, 7463.17it/s]\n",
            "Extracting data files: 100% 1/1 [00:00<00:00, 1049.36it/s]\n",
            "Generating train split: 200 examples [00:00, 8738.32 examples/s]\n",
            "Downloading data files: 100% 1/1 [00:00<00:00, 11491.24it/s]\n",
            "Extracting data files: 100% 1/1 [00:00<00:00, 1676.38it/s]\n",
            "Generating train split: 20 examples [00:00, 7425.52 examples/s]\n",
            "200\n",
            "20\n"
          ]
        }
      ]
    },
    {
      "cell_type": "code",
      "source": [
        "!accelerate launch --config_file configs/multi_gpu.yaml --num_processes=1 --main_process_port 29500 spin/run_spin.py configs/config.yaml"
      ],
      "metadata": {
        "colab": {
          "base_uri": "https://localhost:8080/"
        },
        "id": "Sjd-vHcIDXUE",
        "outputId": "90cd0352-94f7-4437-f6d8-68fc928fddd3"
      },
      "execution_count": 1,
      "outputs": [
        {
          "output_type": "stream",
          "name": "stdout",
          "text": [
            "/bin/bash: line 1: accelerate: command not found\n"
          ]
        }
      ]
    },
    {
      "cell_type": "code",
      "source": [],
      "metadata": {
        "id": "ZrTGlGfILBtk"
      },
      "execution_count": null,
      "outputs": []
    }
  ]
}